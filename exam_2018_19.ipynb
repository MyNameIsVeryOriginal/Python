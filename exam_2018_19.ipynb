{
 "cells": [
  {
   "cell_type": "markdown",
   "metadata": {},
   "source": [
    "---\n",
    "# Examen M208 - Évolution de la population de crocodiles\n",
    "___"
   ]
  },
  {
   "cell_type": "code",
   "execution_count": 1,
   "metadata": {},
   "outputs": [],
   "source": [
    "import numpy as np\n",
    "import matplotlib.pyplot as plt\n",
    "%matplotlib inline"
   ]
  },
  {
   "cell_type": "markdown",
   "metadata": {},
   "source": [
    "# Liens rapides vers les différentes parties\n",
    "* [Indications](#indic)\n",
    "    * [Exemple de courbe (matplotlib)](#exemple_c)\n",
    "* [I - Premiers modèles de population](#modeles0)\n",
    "    * [IA - Première approche](#approche0)\n",
    "    * [IB - Modèle Adulte/enfant/nouveaux nés](#modeleAEO)\n",
    "* [II - Prise en compte du sexe des crocodiles](#sexe)\n",
    "    * [IIA - Prise en compte dans la reproduction](#modele_HM)\n",
    "    * [IIB - Détermination du sexe par la température (TSD)](#modele_TSD)\n",
    "* [III - Impact d'une crise environnementale](#modele_crise)\n",
    "    \n",
    "<a id=\"indic\"></a>\n",
    "## Indications\n",
    " \n",
    "<div style=\"color : black;background:#f5c5c8; border-radius:5px; padding: 8px; margin: 4px;\">\n",
    "Voici comment sont affichés les éléments importants.\n",
    "</div>\n",
    "<div style=\"color : #414141;background:#c5f5da; border-radius:5px; padding: 8px; margin: 4px; font-style: italic;\">\n",
    "Ce qui est en vert ou en italique n'est pas utile pour répondre aux questions mais sert juste à comprendre d'où proviennent les formules.\n",
    "</div>\n",
    "\n",
    "Les **questions** sont en gras.\n",
    "\n",
    "L'examen sera noté sur 24 points (au moins) ; il faut mieux faire peu de questions complétement que de répondre mal à beaucoup de question. Enfin, la présence de documentation ou de commentaires sera valorisée.\n",
    "\n",
    "<a id=\"exemple_c\"></a>\n",
    "## Exemple de courbe (matplotlib)\n",
    "Voici un exemple de tracé de courbes dont vous pourrez vous inspirer pour les questions suivantes"
   ]
  },
  {
   "cell_type": "code",
   "execution_count": 2,
   "metadata": {},
   "outputs": [
    {
     "data": {
      "text/plain": [
       "Text(0.5, 1.0, 'fonctions trigonomètriques')"
      ]
     },
     "execution_count": 2,
     "metadata": {},
     "output_type": "execute_result"
    },
    {
     "data": {
      "image/png": "[encoded data removed]",
      "text/plain": [
       "<Figure size 720x288 with 1 Axes>"
      ]
     },
     "metadata": {
      "needs_background": "light"
     },
     "output_type": "display_data"
    }
   ],
   "source": [
    "fig, ax = plt.subplots(1,1,figsize=(10,4))\n",
    "\n",
    "X=np.linspace(0,2*np.pi)\n",
    "ax.plot(X,np.cos(X),label=\"cosinus\")\n",
    "ax.plot(X,np.sin(X),label=\"sinus\")\n",
    "ax.legend()\n",
    "ax.set_ylabel(\"$f(x)$\")\n",
    "ax.set_xlabel(\"$x$\")\n",
    "ax.set_title(\"fonctions trigonomètriques\")"
   ]
  },
  {
   "cell_type": "markdown",
   "metadata": {},
   "source": [
    "<a id=modeles0> </a>\n",
    "## I - Premiers modèles de population\n",
    "<a id=approche0> </a>\n",
    "### IA - Première approche\n",
    "\n",
    "La façon la plus simple de décrire la population d'une année à l'autre consiste à ajouter les naissances et retrancher les morts d'une année à l'autre.\n",
    "\n",
    "<div style=\"color : black;background:#f5c5c8; border-radius:5px; padding: 8px; margin: 4px;\">\n",
    "Soient $P[k]$ le nombre d'individus au début de l'année $k$, $m$ le taux de mortalité et $n$ le taux de natalité. <p style=\"font-weight: bold\">Alors la population au début de l'année $k+1$ est $P[k+1] = (1 + n - m) \\times P[k]$.</p>\n",
    "</div>\n",
    "<div style=\"color : #414141;background:#c5f5da; border-radius:5px; padding: 8px; margin: 4px; font-style: italic;\">\n",
    "Le nombre de nouveaux nés est $n \\times P[k]$. Le nombre de morts est $m \\times P[k]$. Le nombre total d'individus au début de l'année $k+1$ est donc $P[k] + n \\times P[k] - m \\times P[k]$.\n",
    "</div>\n",
    "\n",
    "Pour cette première partie, $m$ et $n$ seront considérés comme constants.\n",
    "\n",
    "**Questions IA**\n",
    "1. Coder une fonction `modele_M` qui prend en argument la population $P[0]$ à l'instant initial, les taux $m$ et $n$ (deux réels constants) et un nombre d'années $L$ et renvoie le tableau $P$ à $L+1$ éléments tels que $P[k]$ soit la population à l'instant $k$ (où $P$ vérifie $P[k+1] = (1 + n - m) \\times P[k]$).\n",
    "2. Tester votre fonction pour des valeurs de $m$ et $n$ correspondant aux trois cas suivants :\n",
    "    * $n > m$\n",
    "    * $n = m$\n",
    "    * $n < m$\n",
    "\n",
    "Pour chaque cas, tracer la courbe représentant l'évolution du nombre de crocodiles en fonction du temps (donc $P[k]$ en fonction de $k$). On choisira les mêmes valeurs de $P[0]$ et $L$ pour les trois courbes, en prenant garde à choisir $P[0] \\neq 0$."
   ]
  },
  {
   "cell_type": "code",
   "execution_count": 3,
   "metadata": {},
   "outputs": [
    {
     "name": "stdout",
     "output_type": "stream",
     "text": [
      "[0. 0. 0. 0. 0.]\n"
     ]
    },
    {
     "data": {
      "text/plain": [
       "range(1, 4)"
      ]
     },
     "execution_count": 3,
     "metadata": {},
     "output_type": "execute_result"
    }
   ],
   "source": [
    "A = np.zeros(5)\n",
    "print(A)\n",
    "range(1,4)"
   ]
  },
  {
   "cell_type": "code",
   "execution_count": 21,
   "metadata": {},
   "outputs": [
    {
     "name": "stdout",
     "output_type": "stream",
     "text": [
      "[6.000e+01 3.000e+02 1.500e+03 7.500e+03 3.750e+04 1.875e+05] [60. 60. 60. 60. 60. 60.] [    60.   -180.    540.  -1620.   4860. -14580.]\n"
     ]
    }
   ],
   "source": [
    "# Mettre le code de la fonction ici.\n",
    "def modele_M(P0,m,n,L):\n",
    "    P = np.zeros(L+1)\n",
    "    P[0] = P0\n",
    "    for i in range(1,L+1):\n",
    "        P[i] = P[i-1] + P[i-1]*n - m*P[i-1]\n",
    "    return P\n",
    "print(modele_M(60,2,6,5)\n",
    ",modele_M(60,6,6,5)\n",
    ",modele_M(60,6,2,5))"
   ]
  },
  {
   "cell_type": "code",
   "execution_count": 32,
   "metadata": {},
   "outputs": [
    {
     "name": "stdout",
     "output_type": "stream",
     "text": [
      "[0. 1. 2. 3. 4. 5.]\n"
     ]
    }
   ],
   "source": [
    "print(np.linspace(0,5,6))"
   ]
  },
  {
   "cell_type": "code",
   "execution_count": 38,
   "metadata": {},
   "outputs": [
    {
     "data": {
      "text/plain": [
       "Text(0.5, 1.0, 'population crocodile apres 5 ans selon 3 modèles')"
      ]
     },
     "execution_count": 38,
     "metadata": {},
     "output_type": "execute_result"
    },
    {
     "data": {
      "image/png": "[encoded data removed]",
      "text/plain": [
       "<Figure size 720x288 with 1 Axes>"
      ]
     },
     "metadata": {
      "needs_background": "light"
     },
     "output_type": "display_data"
    }
   ],
   "source": [
    "# Mettre le code de la courbe ici\n",
    "fig, ax = plt.subplots(1,1,figsize=(10,4))\n",
    "\n",
    "X=np.linspace(0,5,6)\n",
    "ax.plot(X,modele_M(10,1,2,5),label=\"n>m\")\n",
    "ax.plot(X,modele_M(10,1,1,5),label=\"n=m\")\n",
    "ax.plot(X,modele_M(10,2,1,5),label=\"n<m\")\n",
    "ax.legend()\n",
    "ax.set_ylabel(\"$population$\")\n",
    "ax.set_xlabel(\"$année$\")\n",
    "ax.set_title(\"population crocodile apres 5 ans selon 3 modèles\")"
   ]
  },
  {
   "cell_type": "markdown",
   "metadata": {},
   "source": [
    "<a id=modeleAEO> </a>\n",
    "### IB - Modèle Adulte/enfant/nouveaux nés\n",
    "\n",
    "<div style=\"color : #414141;background:#c5f5da; border-radius:5px; padding: 8px; margin: 4px; font-style: italic;\">\n",
    "On sépare la population en 3 catégories :\n",
    "    <ul>\n",
    "    <li>les adultes, qui se reproduisent et qui ont une mortalité faible,</li>\n",
    "    <li>les enfants, qui ne se reproduisent pas et ont une mortalité moyenne,</li>\n",
    "    <li>les œufs et les nouveaux-nés qui ne reproduisent pas non plus et ont une mortalité très élevée.</li>\n",
    "    </ul></div>\n",
    "\n",
    "Notons $A[k]$ le nombre d'adultes au bout de $k$ années, $E[k]$ le nombre d'enfants au même instant et $O[k]$ le nombre d'œufs/nouveaux nés. On a alors la relation de récurrence suivante :\n",
    "\n",
    "<div style=\"color : black;background:#f5c5c8; border-radius:5px; padding: 8px; margin: 4px;\">\n",
    "\\begin{equation}\\left\\{\\begin{aligned}\n",
    "A[k+1] &= A[k] - \\text{morts} + \\text{enfants devenus adultes} & & = A[k] - m_A A[k] + \\frac{1-m_E}{d_E} E[k] \\\\\n",
    "E[k+1] &= E[k] - \\text{morts} - \\text{enfants devenus adultes} +\\text{nouveaux nés devenus enfants} & & = E[k] - m_E E[k] - \\frac{1-m_E}{d_E} E[k] +(1-m_O)O[k] \\\\\n",
    "O[k+1] &= \\text{nouvelles naissances} & & = \\min(n_A A[k],S)\n",
    "\\end{aligned}\\right.\\end{equation}\n",
    "</div>\n",
    "\n",
    "où les constantes $m_A$, $m_E$, $m_0$, $d_E$, $n_A$ et $S$ sont toutes strictement positives et représentent:\n",
    "\n",
    "* $m_A$, $m_E$ et $m_O$ : mortalité des adultes, enfants et œufs, respectivement\n",
    "* $d_E$ : durée de l'enfance\n",
    "* $n_A$ : taux de naissance\n",
    "* $S$ : capacité de l'environnement."
   ]
  },
  {
   "cell_type": "markdown",
   "metadata": {},
   "source": [
    "<div style=\"color : #414141;background:#c5f5da; border-radius:5px; padding: 8px; margin: 4px; font-style: italic;\">\n",
    "Remarques :<ul>\n",
    "    <li>La zone où les crocodiles pondent et couvent leur œufs est limitée, $S$ représente cette limite.</li>\n",
    "    <li>L'enfance dure environ 12 ans donc environ 1/12 des enfants deviennent adultes chaque année ; ce phénomène est décrit par le terme $\\frac{1-m_E}{d_E}$ qui tient compte à la fois de la durée de l'enfance et de la mortalité.</li>\n",
    "</ul></div>\n",
    "\n",
    "**Question IB-1**  \n",
    "Ecrire une fonction `modele_AEO` qui :\n",
    "* prend en argument :\n",
    "    * le nombre intial d'adultes `A0`, le nombre initial d'enfants `E0` et le nombre initial d'œufs `O0`,\n",
    "    * les coefficients `mA`, `mE`, `mO`, `dE`, `nA` et `S`\n",
    "    * un nombre d'années `L` à simuler,\n",
    "* calcule et renvoie trois tableaux de dimension 1 à $L+1$ éléments, `A`, `E` et `O`, tels que `A[k]` soit le nombre d'adultes au début de l'année `k`, `E[k]` le nombre d'enfants au même instant et `O[k]` le nombre d'œufs au même instant.\n",
    "\n",
    "*Indication* : si `a` et `b` sont deux nombres, la comande `min(a,b)` renvoie le minimum de ces deux nombres."
   ]
  },
  {
   "cell_type": "code",
   "execution_count": 41,
   "metadata": {},
   "outputs": [
    {
     "name": "stdout",
     "output_type": "stream",
     "text": [
      "Help on built-in function min in module builtins:\n",
      "\n",
      "min(...)\n",
      "    min(iterable, *[, default=obj, key=func]) -> value\n",
      "    min(arg1, arg2, *args, *[, key=func]) -> value\n",
      "    \n",
      "    With a single iterable argument, return its smallest item. The\n",
      "    default keyword-only argument specifies an object to return if\n",
      "    the provided iterable is empty.\n",
      "    With two or more arguments, return the smallest argument.\n",
      "\n"
     ]
    }
   ],
   "source": [
    "help(min)"
   ]
  },
  {
   "cell_type": "code",
   "execution_count": 44,
   "metadata": {},
   "outputs": [],
   "source": [
    "# METTRE VOTRE CODE ICI\n",
    "def modele_AEO(A0, E0, O0, mA, mE, mO, dE, nA, S, L):\n",
    "    A = np.zeros(L+1)\n",
    "    E = np.zeros(L+1)\n",
    "    O = np.zeros(L+1)\n",
    "    A[0] = A0\n",
    "    E[0] = E0\n",
    "    O[0] = E0\n",
    "    \n",
    "    for i in range(1,L+1):\n",
    "        \n",
    "        A[i] = A[i-1] - mA*A[i-1] + ((1-mE)/dE) * E[i-1]\n",
    "        \n",
    "        E[i] = E[i-1] - mE*E[i-1] - ((1-mE)/dE) * E[i-1] + (1-mO)*O[i-1]\n",
    "        \n",
    "        O[i] = min(nA*A[i-1],S)\n",
    "        \n",
    "    return A,E,O"
   ]
  },
  {
   "cell_type": "markdown",
   "metadata": {},
   "source": [
    "**Question IB-2**\n",
    "Tracer l'évolutions des populations en fonction du temps pour les paramètres donnés dans la cellule suivante :"
   ]
  },
  {
   "cell_type": "code",
   "execution_count": 45,
   "metadata": {},
   "outputs": [],
   "source": [
    "# PARAMETRES A UTILISER - NE PAS MODIFIER\n",
    "Oeq = 126.20494165637257\n",
    "Eeq = 636.5828212403098\n",
    "Aeq = 225.96133177564667\n",
    "\n",
    "mA = 0.15; mE = 0.14; mO=0.87\n",
    "S = Oeq/(1-mO)\n",
    "A0=Aeq; E0=Eeq; O0 = S\n",
    "\n",
    "dE=12\n",
    "nA=13.2/2.\n",
    "\n",
    "L = 100"
   ]
  },
  {
   "cell_type": "code",
   "execution_count": 49,
   "metadata": {},
   "outputs": [
    {
     "data": {
      "text/plain": [
       "Text(0.5, 1.0, 'population crocodile apres 5 ans selon 3 modèles')"
      ]
     },
     "execution_count": 49,
     "metadata": {},
     "output_type": "execute_result"
    },
    {
     "data": {
      "image/png": "[encoded data removed]",
      "text/plain": [
       "<Figure size 720x288 with 1 Axes>"
      ]
     },
     "metadata": {
      "needs_background": "light"
     },
     "output_type": "display_data"
    }
   ],
   "source": [
    "# METTRE ICI LE CODE DU GRAPHE\n",
    "Z = modele_AEO(A0, E0, O0, mA, mE, mO, dE, nA, S, L)\n",
    "fig, ax = plt.subplots(1,1,figsize=(10,4))\n",
    "\n",
    "X=np.linspace(0,L,L+1)\n",
    "ax.plot(X,Z[0],label=\"Adulte\")\n",
    "ax.plot(X,Z[1],label=\"Enfant\")\n",
    "ax.plot(X,Z[2],label=\"Oeuf\")\n",
    "ax.legend()\n",
    "ax.set_ylabel(\"$population$\")\n",
    "ax.set_xlabel(\"$année$\")\n",
    "ax.set_title(\"population crocodile apres 5 ans selon 3 modèles\")"
   ]
  },
  {
   "cell_type": "markdown",
   "metadata": {},
   "source": [
    "<a id=\"sexe\"></a>\n",
    "## II - Prise en compte du sexe des crocodiles\n",
    "\n",
    "<a id=\"modele_HM\"></a>\n",
    "### IIA - Prise en compte dans la reproduction\n",
    "<div style=\"color : #414141;background:#c5f5da; border-radius:5px; padding: 8px; margin: 4px; font-style: italic;\">\n",
    "Un crocodile mâle est capable de féconder beaucoup de femelles. En réalité, le nombre d'œufs pondus dépend uniquement du nombre de femelles adultes (le nombre de mâles n'est jamais limitant). Chaque femelle pond $C=2n_A$ oeufs tant qu'il y a de la place pour pondre.\n",
    "\n",
    "Nous allons donc séparer les catégories \"enfants\" et \"adultes\" en fonction du sexe : $A_F$ désignera le nombre d'adultes de sexe féminin, $A_M$ désignera le nombre d'adultes de sexe masculin, $E_F$ sera le nombre d'enfants de sexe féminin et $E_M$ celui d'enfants de sexe masculin. Les œufs auront $50\\%$ de chance de devenir des enfants masculins et $50\\%$ de chance de devenir des enfants féminins.\n",
    "</div>\n",
    "\n",
    "La nouvelle relation de récurrence s'écrit :\n",
    "<div style=\"color : black;background:#f5c5c8; border-radius:5px; padding: 8px; margin: 4px;\">\n",
    "\\begin{equation}\n",
    "\\left\\{\n",
    "\\begin{aligned}\n",
    "A_F[k+1] &= A_F[k] - m_A A_F[k] + \\frac{1-m_E}{d_E} E_F[k] \\\\\n",
    "A_M[k+1] &= A_M[k] - m_A A_M[k] + \\frac{1-m_E}{d_E} E_M[k] \\\\\n",
    "E_F[k+1] &= E_F[k] - m_E E_F[k] - \\frac{1-m_E}{d_E} E_F[k] +\\frac{1-m_O}{2} O[k] \\\\\n",
    "E_M[k+1] &= E_M[k] - m_E E_M[k] - \\frac{1-m_E}{d_E} E_M[k] +\\frac{1-m_O}{2} O[k] \\\\\n",
    "O[k+1] & = \\min(C\\times A_F[k], S) \\quad \\text{ avec $C = 2n_A$}\n",
    "\\end{aligned}\n",
    "\\right.\n",
    "\\end{equation}\n",
    "</div>\n",
    "\n",
    "\n",
    "**Question IIA-1**  \n",
    "Ecrire une fonction `modele_sexue` qui :\n",
    "   * prend en argument :\n",
    "        * le nombre intial d'adultes de sexe féminin, `AF0`, et masculin, `AM0`,\n",
    "        * le nombre intial d'enfants de sexe féminin, `EF0`, et masculin, `EM0`,\n",
    "        * le nombre initial d'œufs, `O0`,\n",
    "        * les coefficients `mA`, `mE`, `mO`, `dE`, `nA` et `S`,\n",
    "        * un nombre d'années $L$ à simuler,\n",
    "   * calcule et renvoie cinq tableaux de dimension 1 à $L+1$ éléments, `AF`, `AM`, `EF`, `EM` et `O`, tels que `AF[k]` et `AM[k]` soient les nombres d'adultes de sexes féminin et masculin, respectivement, au début de l'année `k`, `EF[k]` et `EM[k]` les nombres d'enfants de sexes féminin et masculin, respectivement, au même instant `k`, et `O[k]` le nombre d'œufs au même instant.\n",
    "\n"
   ]
  },
  {
   "cell_type": "code",
   "execution_count": null,
   "metadata": {},
   "outputs": [],
   "source": [
    "# METTRE VOTRE CODE ICI\n",
    "def modele_sexue(AF0,AM0,EF0,EM0,O0,mA,mE,mO,dE,C,S,L):\n",
    "    "
   ]
  },
  {
   "cell_type": "markdown",
   "metadata": {},
   "source": [
    "**Question IIA-2**  \n",
    "Pour les paramètres suivants, tracer sur un même graphique l'évolution du nombre *total* d'adultes `A` en fonction du temps (noter que `A = AF + AM`), l'évolution du nombre *total* d'enfants `E` (de même, `E = EF + EM`) et celle du nombre d'œufs `O`."
   ]
  },
  {
   "cell_type": "code",
   "execution_count": null,
   "metadata": {},
   "outputs": [],
   "source": [
    "# Paramètres - NE PAS MODIFIER\n",
    "Oeq = 126.20494165637257\n",
    "Eeq = 636.5828212403098\n",
    "Aeq = 225.96133177564667\n",
    "\n",
    "AF0 = Aeq/2; AM0 = Aeq/2\n",
    "EF0 = Eeq/2; EM0 = Eeq/2\n",
    "\n",
    "mA = 0.15; mE = 0.14; mO=0.87\n",
    "S = Oeq/(1-mO); O0 = S\n",
    "\n",
    "dE=12\n",
    "C=13.2 # Nombre d'oeuf pondus par les femelles = 2*nA\n",
    "\n",
    "L = 100"
   ]
  },
  {
   "cell_type": "code",
   "execution_count": null,
   "metadata": {},
   "outputs": [],
   "source": [
    "# METTRE LE CODE DU GRAPHE ICI\n"
   ]
  },
  {
   "cell_type": "markdown",
   "metadata": {},
   "source": [
    "<a id=\"modele_TSD\"></a>\n",
    "### IIB - Détermination du sexe par la température (TSD)\n",
    "\n",
    "<div style=\"color : #414141;background:#c5f5da; border-radius:5px; padding: 8px; margin: 4px; font-style: italic;\">\n",
    "Chez les crocodiles, la détermination du sexe d'un nouveau né n'est pas génétique, contrairement à la plupart des animaux (au contraire des mamifères où, généralement, les chromosomes X/Y déterminent le sexe).\n",
    "\n",
    "Pour les crocodiles, les œufs sont pondus sur la rive d'une rivière et il y a trois possibilités :<ul>\n",
    "    <li>Tout prêt de l'eau, la température est plus basse et les œufs pondus tout près de l'eau donnent tous des individus femelles,</li>\n",
    "    <li>Un peu plus loin, la température est intermédiaire et les œufs pondus dans cette zone intermédiaire donnent 50% d'individus femelles et 50% d'indivudus males.</li>\n",
    "    <li>Encore plus loin de l'eau, la température est plus élevée et tous les œufs donneront des individus males.</li>\n",
    "    </ul></div>\n",
    "\n",
    "Pour représenter cela, nous allons séparer la catégorie des \"œufs/nouveaux-nés\" en 3 :\n",
    "* `O1` représente les œufs pondus en bas de la rive (zone 1) et qui seront tous féminins,\n",
    "* `O2` représente les œufs pondus au milieu de la rive (zone 2) et qui seront pour moitié masculin et pour moitié féminin,\n",
    "* `O3` représente les œufs pondus en haut de la rive (zone 3) et qui seront tous masculins.\n",
    "\n",
    "On suppose que chacune de ces régions a une capacité maximale d'œufs, représentée par des constantes `S1`, `S2` et `S3`, et que le nombre moyen d'œufs pondu par une adulte femelle vaut `C`.\n",
    "\n",
    "<div style=\"color : black;background:#f5c5c8; border-radius:5px; padding: 8px; margin: 4px;\">\n",
    "On a donc les relations suivantes pour les enfants et les adultes :    \n",
    "\\begin{equation}\\left\\{\\begin{aligned}\n",
    "A_F[k+1] &= A_F[k] - m_A A_F[k] + \\frac{1-m_E}{d_E} E_F[k] \\\\\n",
    "A_M[k+1] &= A_M[k] - m_A A_M[k] + \\frac{1-m_E}{d_E} E_M[k] \\\\\n",
    "E_F[k+1] &= E_F[k] - m_E E_F[k] - \\frac{1-m_E}{d_E} E_F[k] +(1-m_O) \\bigl(O_1[k]+ 0.5\\times O_2[k]\\bigr) \\\\\n",
    "E_M[k+1] &= E_M[k] - m_E E_M[k] - \\frac{1-m_E}{d_E} E_M[k] +(1-m_O) \\bigl(O_3[k]+ 0.5\\times O_2[k]\\bigr) \\\\\n",
    "\\end{aligned}\\right.\\end{equation}\n",
    "    \n",
    "Pour calculer le nouveau nombre d'œufs (O1[k+1], O2[k+1] et O3[k+1]), il faudra faire comme suit :<ul>\n",
    "<li> On initialise O1[k+1], O2[k+1] et O3[k+1] à 0 (tous les 3).</li>\n",
    "<li> Pour chaque adulte femelle à l'instant $k$ (il y en a $A_F[k]$) :\n",
    "    <ul>\n",
    "    <li>Si O1[k+1] < S1 : on dit qu'il reste de la place dans la zone basse et la femelle y pond ses œufs : O1[k+1] augmente de C,</li>\n",
    "    <li>Sinon, si O2[k+1] < S2 : on dit qu'il reste de la place dans la zone du milieu et la femelle y pond ses œufs : O2[k+1] augmente de C,</li>\n",
    "    <li>Sinon, si O3[k+1] < S3 : on dit qu'il reste de la place dans la zone haute et la femelle y pond ses œufs : O3[k+1] augmente de C,</li\n",
    "    <li>Sinon, la femelle ne pond pas d'œufs (plus de place pour pondre et couver).</li>\n",
    "    </ul>\n",
    "    </li></ul></div>\n",
    "\n",
    "**Question IIB-1**\n",
    "\n",
    "Écrire une fonction `modele_TSD` qui :\n",
    "* prend en argument :\n",
    "    * le nombre intial d'adultes de sexe féminin, `AF0`, et masculin, `AM0`,\n",
    "    * le nombre intial d'enfants de sexe féminin, `EF0`, et masculin, `EM0`,\n",
    "    * le nombre initial d'œufs, `O10`, `O20` et `O30`, pondus dans chacune des trois zones,\n",
    "    * les coefficients `mA`, `mE`, `mO`, `dE`, `S1`, `S2`, `S3` et `C`,\n",
    "    * un nombre d'années $L$ à simuler,\n",
    "* calcule et renvoie sept tableaux de dimension 1 à $L+1$ éléments : `AF`, `AM`, `EF`, `EM`, `O1`, `O2` et `O3`, tels que `AF[k]` et `AM[k]` soient les nombres d'adultes de sexes féminin et masculin, respectivement, au début de l'année `k`, `EF[k]` et `EM[k]` les nombres d'enfants de sexes féminin et masculin, respectivement, au même instant `k`, et `O1[k]`, `O2[k]` et `O3[k]` le nombre d'œufs en zones 1, 2 et 3, respectivement, au même instant `k`."
   ]
  },
  {
   "cell_type": "code",
   "execution_count": null,
   "metadata": {},
   "outputs": [],
   "source": [
    "# Mettre votre code ici\n",
    "def modele_TSD(AF0,AM0,EF0,EM0,O10,O20,O30,mA,mE,mO,dE,S1,S2,S3,C,L):"
   ]
  },
  {
   "cell_type": "markdown",
   "metadata": {},
   "source": [
    "**Question IIB-2**  \n",
    "Pour les paramètres suivants, tracer sur un même graphique l'évolution du nombre *total* d'adultes `A` en fonction du temps (noter que `A = AF + AM`), l'évolution du nombre *total* d'enfants `E` (de même, `E = EF + EM`) et celle du nombre *total* d'œufs `O` (`O = O1 + O2 + O3`)."
   ]
  },
  {
   "cell_type": "code",
   "execution_count": null,
   "metadata": {},
   "outputs": [],
   "source": [
    "# Paramètres - NE PAS MODIFIER\n",
    "Oeq = 126.20494165637257\n",
    "Eeq = 636.5828212403098\n",
    "Aeq = 225.96133177564667\n",
    "\n",
    "AF0 = Aeq/2; AM0 = Aeq/2\n",
    "EF0 = Eeq/2; EM0 = Eeq/2\n",
    "\n",
    "mA = 0.15; mE = 0.14; mO=0.87\n",
    "pondus = Oeq/(1-mO)\n",
    "\n",
    "O10 = 0.797*pondus; O20=0.136*pondus; O30=0.067*pondus\n",
    "C = 13.2\n",
    "\n",
    "S1 = 0.797*pondus; S2 = 0.136*pondus; S3 = 0.067*pondus\n",
    "\n",
    "dE = 12\n",
    "\n",
    "L = 100"
   ]
  },
  {
   "cell_type": "code",
   "execution_count": null,
   "metadata": {},
   "outputs": [],
   "source": [
    "# METTRE LE CODE DU GRAPHE ICI\n"
   ]
  },
  {
   "cell_type": "markdown",
   "metadata": {},
   "source": [
    "<a id=\"modele_crise\"></a>\n",
    "## III - Impact d'une crise environnementale\n",
    "\n",
    "<div style=\"color : #414141;background:#c5f5da; border-radius:5px; padding: 8px; margin: 4px; font-style: italic;\">\n",
    "On cherche à reproduire l'impact de la mort massive d'une partie de la population. \n",
    "</div>\n",
    "\n",
    "**Question III-1**  \n",
    "Reproduire les graphiques des questions IB-2 (`modele_AEO`) et IIB-2 (`modele_TSD`) pour une population initiale divisée par 10. Quelle population revient plus vite à un état normal (quelle population croit le plus vite ?) ?\n",
    "\n",
    "    \n",
    "Indication :\n",
    "   * On remplacera `A0`, `E0` et `O0` par `A0/10`, `E0/10` et `O0/10` pour `modele_AEO`,\n",
    "   * On remplacera `AF0`, `AM0`, `EM0`, `EF0`, `O10`, `O20` et `O30` par `AF0/10`, `AM0/10`, `EF0/10`, `EM0/10`, `O10/10`, `O20/10`, `O30/10` pour `modele_TSD`. \n"
   ]
  },
  {
   "cell_type": "code",
   "execution_count": null,
   "metadata": {},
   "outputs": [],
   "source": [
    "# METTRE VOTRE CODE ICI"
   ]
  },
  {
   "cell_type": "code",
   "execution_count": null,
   "metadata": {},
   "outputs": [],
   "source": []
  }
 ],
 "metadata": {
  "anaconda-cloud": {},
  "kernelspec": {
   "display_name": "Python 3",
   "language": "python",
   "name": "python3"
  },
  "language_info": {
   "codemirror_mode": {
    "name": "ipython",
    "version": 3
   },
   "file_extension": ".py",
   "mimetype": "text/x-python",
   "name": "python",
   "nbconvert_exporter": "python",
   "pygments_lexer": "ipython3",
   "version": "3.7.3"
  }
 },
 "nbformat": 4,
 "nbformat_minor": 2
}
